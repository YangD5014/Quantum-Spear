{
 "cells": [
  {
   "attachments": {},
   "cell_type": "markdown",
   "metadata": {},
   "source": [
    "给前端同学写的API文档+简介  \n",
    "以下是api调用实例  \n",
    "> 所需环境： qiskit qiskit_optimization pickle  "
   ]
  },
  {
   "attachments": {},
   "cell_type": "markdown",
   "metadata": {},
   "source": [
    "##### 第一步: 包的导入"
   ]
  },
  {
   "cell_type": "code",
   "execution_count": 1,
   "metadata": {},
   "outputs": [],
   "source": [
    "#我随便起的包名 可以改\n",
    "from QuantumSpear.QuantumFinance import QuantumFinance \n",
    "from QuantumSpear.SpearData import FinancialData #导入数据对象"
   ]
  },
  {
   "attachments": {},
   "cell_type": "markdown",
   "metadata": {},
   "source": [
    "##### 第二步: 定义对象 \n",
    "定义量子金融问题的QAOA对象  \n",
    "theta_1 + theta_2 + theta_3 的和要为1  \n",
    "n为资产总数 必须和.spear 数据对象保持一致  \n",
    "g为资产分片数   \n",
    "DataFile 里面应当填入 .spear对象的路径 我这里内置了一个"
   ]
  },
  {
   "cell_type": "code",
   "execution_count": 2,
   "metadata": {},
   "outputs": [
    {
     "name": "stdout",
     "output_type": "stream",
     "text": [
      "加载数据成功\n",
      " data={'Number': 4, 'Project_Name': ['股票A', '债券B', '期货C', '信托D'], 'Profit_rates': [0.08, 0.05, 0.1, 0.06], 'Risk_Matrix': [[0.04, 0.01, 0.06, 0.025], [0.01, 0.02, 0.03, 0.005], [0.06, 0.03, 0.09, 0.04], [0.025, 0.005, 0.04, 0.09]]}\n",
      "初始化成功!\n"
     ]
    }
   ],
   "source": [
    "problem = QuantumFinance(theta_1=0.3,theta_2=0.4,theta_3=0.3,n=4,g=2,DataFile=None) #应当在里面填入各类参数 可以不填我默认了一部分\n",
    "#会自行打印一下data里的内容 可以去掉"
   ]
  },
  {
   "attachments": {},
   "cell_type": "markdown",
   "metadata": {},
   "source": [
    "##### 第三步: 调用几个内置方法  \n",
    "1. run(reps=2)   参数reps指的是重复次数 设置的越大效果应当更好,但是不易过大,越大运行时间越久  \n",
    "2. explain_result() 解释结果 调用后对象多出一个answer_dict 结果写成了字典形式"
   ]
  },
  {
   "cell_type": "code",
   "execution_count": 3,
   "metadata": {},
   "outputs": [
    {
     "name": "stdout",
     "output_type": "stream",
     "text": [
      "{'state': 4, 'bitstring': '00000100', 'value': (-15.012+0j), 'probability': 0.008811537596798}\n"
     ]
    }
   ],
   "source": [
    "problem.run(reps=2) #使用run方法 "
   ]
  },
  {
   "cell_type": "code",
   "execution_count": 5,
   "metadata": {},
   "outputs": [
    {
     "name": "stdout",
     "output_type": "stream",
     "text": [
      "本次咨询共涉及资产4个,\n",
      "预算为10万元,投资分片数:2\n",
      "第1个资产,不投资 \n",
      "第2个资产,不投资 \n",
      "第3个资产,投资100.0%\n",
      "第4个资产,不投资 \n",
      "\n"
     ]
    }
   ],
   "source": [
    "problem.explain_result() #最终结果"
   ]
  },
  {
   "cell_type": "code",
   "execution_count": 7,
   "metadata": {},
   "outputs": [
    {
     "data": {
      "text/plain": [
       "{1: '0%', 2: '0%', 3: '100.0%', 4: '0%'}"
      ]
     },
     "execution_count": 7,
     "metadata": {},
     "output_type": "execute_result"
    }
   ],
   "source": [
    "#为了方便前端使用\n",
    "problem.answer_dict"
   ]
  }
 ],
 "metadata": {
  "kernelspec": {
   "display_name": "QISKIT_WSL",
   "language": "python",
   "name": "python3"
  },
  "language_info": {
   "codemirror_mode": {
    "name": "ipython",
    "version": 3
   },
   "file_extension": ".py",
   "mimetype": "text/x-python",
   "name": "python",
   "nbconvert_exporter": "python",
   "pygments_lexer": "ipython3",
   "version": "3.11.3"
  },
  "orig_nbformat": 4
 },
 "nbformat": 4,
 "nbformat_minor": 2
}
