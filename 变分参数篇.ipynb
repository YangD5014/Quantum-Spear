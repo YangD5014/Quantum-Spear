{
 "cells": [
  {
   "attachments": {},
   "cell_type": "markdown",
   "metadata": {},
   "source": [
    "# 变分参数篇  \n",
    "经过二次量子化、编码后的哈密顿量本质就是一个矩阵，接下来的任务就是找到这个矩阵的最小本征值对应的本征态.  \n",
    "本征态对应着量子态，也对应着波函数。获得这个本征态的方式叫做变分法，本质是尽量接近和模仿这个未知的波函数。  \n",
    "那么，在qiskit中变分参数是如何训练的呢？有哪些必须掌握的API呢？  \n",
    "<font color=red>【关键词】:变分线路Ansatz、变分参数、优化过程、优化器</font>  \n",
    "如果你认为自己理解了,练习自行完成"
   ]
  },
  {
   "cell_type": "code",
   "execution_count": 1,
   "metadata": {},
   "outputs": [
    {
     "data": {
      "text/latex": [
       "$$\n",
       "\n",
       "\\begin{bmatrix}\n",
       "\\frac{13}{20} & 0 & \\frac{17}{10} & 0 & \\frac{7}{10} & \\frac{1}{5} & 0 & 0  \\\\\n",
       " 0 & \\frac{13}{20} & 0 & - \\frac{1}{10} & \\frac{1}{5} & - \\frac{7}{10} & 0 & 0  \\\\\n",
       " \\frac{17}{10} & 0 & \\frac{13}{20} & 0 & 0 & 0 & - \\frac{7}{10} & - \\frac{1}{5}  \\\\\n",
       " 0 & - \\frac{1}{10} & 0 & \\frac{13}{20} & 0 & 0 & - \\frac{1}{5} & \\frac{7}{10}  \\\\\n",
       " \\frac{7}{10} & \\frac{1}{5} & 0 & 0 & \\frac{13}{20} & 0 & \\frac{1}{10} & 0  \\\\\n",
       " \\frac{1}{5} & - \\frac{7}{10} & 0 & 0 & 0 & \\frac{13}{20} & 0 & - \\frac{17}{10}  \\\\\n",
       " 0 & 0 & - \\frac{7}{10} & - \\frac{1}{5} & \\frac{1}{10} & 0 & \\frac{13}{20} & 0  \\\\\n",
       " 0 & 0 & - \\frac{1}{5} & \\frac{7}{10} & 0 & - \\frac{17}{10} & 0 & \\frac{13}{20}  \\\\\n",
       " \\end{bmatrix}\n",
       "$$"
      ],
      "text/plain": [
       "<IPython.core.display.Latex object>"
      ]
     },
     "execution_count": 1,
     "metadata": {},
     "output_type": "execute_result"
    }
   ],
   "source": [
    "from qiskit.circuit import QuantumCircuit,Parameter\n",
    "from qiskit.quantum_info import SparsePauliOp,Pauli\n",
    "from qiskit.visualization import array_to_latex\n",
    "import numpy as np\n",
    "\n",
    "#先构造一个我们自己编的哈密顿量\n",
    "hamiltonian = SparsePauliOp(data=['XZZ','ZXI','IXZ','XZX','III'],coeffs=[0.7,0.8,0.9,0.2,0.65])\n",
    "#展示一下哈密顿量矩阵长啥样\n",
    "array_to_latex(hamiltonian.to_matrix()) "
   ]
  },
  {
   "cell_type": "code",
   "execution_count": 2,
   "metadata": {},
   "outputs": [
    {
     "name": "stdout",
     "output_type": "stream",
     "text": [
      "哈密顿量对应的最小本征值是(-1.4538404810405308+0j)\n",
      "最小本征值对应的本征态是[ 0.48006009-0.j  0.46193977+0.j  0.48006009-0.j -0.46193977-0.j\n",
      " -0.13979383+0.j  0.19134172+0.j  0.13979383+0.j -0.19134172+0.j]\n"
     ]
    }
   ],
   "source": [
    "E,U = np.linalg.eig(hamiltonian.to_matrix())\n",
    "print(f'哈密顿量对应的最小本征值是{E.min()}\\n最小本征值对应的本征态是{U[np.argmin(E)]}')\n",
    "#想一下为啥本征态的维度是这样？"
   ]
  },
  {
   "attachments": {},
   "cell_type": "markdown",
   "metadata": {},
   "source": [
    "以上使用numpy(经典计算的方法)解得的答案，下面使用量子变分线路"
   ]
  },
  {
   "cell_type": "code",
   "execution_count": 3,
   "metadata": {},
   "outputs": [
    {
     "data": {
      "image/png": "[encoded data removed]",
      "text/plain": [
       "<Figure size 287.496x284.278 with 1 Axes>"
      ]
     },
     "metadata": {},
     "output_type": "display_data"
    },
    {
     "name": "stdout",
     "output_type": "stream",
     "text": [
      "本线路里包含6个变分参数!\n"
     ]
    }
   ],
   "source": [
    "from qiskit.circuit.library import TwoLocal\n",
    "qc = QuantumCircuit(3)\n",
    "qc.append(TwoLocal(num_qubits=3,rotation_blocks=['rx','ry'],reps=0),range(3))\n",
    "display(qc.decompose(reps=2).draw('mpl'))\n",
    "print(f'本线路里包含{qc.num_parameters}个变分参数!')"
   ]
  },
  {
   "attachments": {},
   "cell_type": "markdown",
   "metadata": {},
   "source": [
    "我们构造出了一个变分线路 希望通过这个线路来生成对应本征态的量子态 但是根据线路里包含了需要给出的变分参数  \n",
    "接下来我们需要找到最优的变分参数 才能够更好地逼近未知的最小本征值对应的本征态  \n",
    "#### 重点1：优化器  \n",
    "优化器虽然qiskit官方也有 但是如果去看源码 本质都是使用了scipy.optimize的优化方法  \n",
    "因此 我们直接使用qiskit优化器他爹 scipy.optimize  \n",
    "##### 1.1 目标函数咋设置？  \n",
    "目标函数返回的值应当就是我们想要最大/最小化的函数值，比如在这里 就是我们的最小化能量E=$\\bra{\\psi} H\\ket{\\psi}$\n"
   ]
  },
  {
   "cell_type": "code",
   "execution_count": 4,
   "metadata": {},
   "outputs": [],
   "source": [
    "from qiskit.primitives import Estimator\n",
    "def object_value(x):\n",
    "    print(f'能量期望值测量函数接受到的参数是{x}')\n",
    "    estimator = Estimator()\n",
    "    job = estimator.run(circuits=qc,observables=hamiltonian,parameter_values=x)\n",
    "    print(f'能量期望值是{job.result().values[0]}')\n",
    "    means_energy = job.result().values[0]\n",
    "    return means_energy\n",
    "\n",
    "#这个函数根据给定的参数列表 会把参数填进量子线路中 然后测量能量期望值，这部分不熟悉的同学去看Estimator\n",
    "#https://qiskit.org/documentation/stubs/qiskit.primitives.Estimator.html#estimator"
   ]
  },
  {
   "attachments": {},
   "cell_type": "markdown",
   "metadata": {},
   "source": [
    "##### 1.2 梯度和回调函数的设定  \n",
    "在优化器优化算法中,往往需要函数的梯度值作为依据来更新参数，这和机器学习中的梯度下降法同理，是一种普遍的优化策略。  \n",
    "然而，在此处并不需要设置梯度，因为我们想要近似的波函数是未知的,因此无法直接写出梯度表达式来。  \n",
    "所以 优化器对自动使用近似求解梯度的算法，比如给参数加一个很小的扰动，根据导数的定义式求出单个参数的导数，导数向量就是梯度  \n",
    "总之 此处不设置梯度的计算函数，而是默认使用优化器自带的梯度求解方法  \n",
    "\n",
    "回调函数可以让我们知道 优化器咋算出最后它认为最优的参数的，因此学习优化器时，应当设置一波 看看这玩意儿背着咱干了啥  \n",
    "\n",
    "给参数设定范围也很重要，不然给个参数设个几百万不很离谱吗 在这里咱们设置[-2pi,2pi] 想想为什么？"
   ]
  },
  {
   "cell_type": "code",
   "execution_count": 5,
   "metadata": {},
   "outputs": [],
   "source": [
    "def mycall_back(*args):\n",
    "    print(f'回调函数收到了{args}')"
   ]
  },
  {
   "cell_type": "code",
   "execution_count": 6,
   "metadata": {},
   "outputs": [
    {
     "name": "stdout",
     "output_type": "stream",
     "text": [
      "能量期望值测量函数接受到的参数是[0.2 0.2 0.2 0.2 0.2 0.2]\n",
      "能量期望值是1.1009736703267745\n",
      "能量期望值测量函数接受到的参数是[0.20000001 0.2        0.2        0.2        0.2        0.2       ]\n",
      "能量期望值是1.100973669715899\n",
      "能量期望值测量函数接受到的参数是[0.2        0.20000001 0.2        0.2        0.2        0.2       ]\n",
      "能量期望值是1.1009736694126058\n",
      "能量期望值测量函数接受到的参数是[0.2        0.2        0.20000001 0.2        0.2        0.2       ]\n",
      "能量期望值是1.1009736697538108\n",
      "能量期望值测量函数接受到的参数是[0.2        0.2        0.2        0.20000001 0.2        0.2       ]\n",
      "能量期望值是1.1009736700899473\n",
      "能量期望值测量函数接受到的参数是[0.2        0.2        0.2        0.2        0.20000001 0.2       ]\n",
      "能量期望值是1.1009736857416241\n",
      "能量期望值测量函数接受到的参数是[0.2        0.2        0.2        0.2        0.2        0.20000001]\n",
      "能量期望值是1.1009736765861908\n",
      "能量期望值测量函数接受到的参数是[ 0.26108756  0.29141687  0.25729637  0.22368272 -1.34148496 -0.42594163]\n",
      "能量期望值是-0.8590980831000532\n",
      "能量期望值测量函数接受到的参数是[ 0.26108757  0.29141687  0.25729637  0.22368272 -1.34148496 -0.42594163]\n",
      "能量期望值是-0.8590980808238124\n",
      "能量期望值测量函数接受到的参数是[ 0.26108756  0.29141688  0.25729637  0.22368272 -1.34148496 -0.42594163]\n",
      "能量期望值是-0.8590980785734147\n",
      "能量期望值测量函数接受到的参数是[ 0.26108756  0.29141687  0.25729638  0.22368272 -1.34148496 -0.42594163]\n",
      "能量期望值是-0.85909808121009\n",
      "能量期望值测量函数接受到的参数是[ 0.26108756  0.29141687  0.25729637  0.22368273 -1.34148496 -0.42594163]\n",
      "能量期望值是-0.8590980813343941\n",
      "能量期望值测量函数接受到的参数是[ 0.26108756  0.29141687  0.25729637  0.22368272 -1.34148495 -0.42594163]\n",
      "能量期望值是-0.8590980823376858\n",
      "能量期望值测量函数接受到的参数是[ 0.26108756  0.29141687  0.25729637  0.22368272 -1.34148496 -0.42594162]\n",
      "能量期望值是-0.8590980847351539\n",
      "回调函数收到了(array([ 0.26108756,  0.29141687,  0.25729637,  0.22368272, -1.34148496,\n",
      "       -0.42594163]),)\n",
      "能量期望值测量函数接受到的参数是[ 0.07252052 -0.08672297  0.10141731  0.07493225 -1.56811798 -0.35140759]\n",
      "能量期望值是-0.9868391514030552\n",
      "能量期望值测量函数接受到的参数是[ 0.07252053 -0.08672297  0.10141731  0.07493225 -1.56811798 -0.35140759]\n",
      "能量期望值是-0.9868391507547468\n",
      "能量期望值测量函数接受到的参数是[ 0.07252052 -0.08672296  0.10141731  0.07493225 -1.56811798 -0.35140759]\n",
      "能量期望值是-0.9868391528261404\n",
      "能量期望值测量函数接受到的参数是[ 0.07252052 -0.08672297  0.10141732  0.07493225 -1.56811798 -0.35140759]\n",
      "能量期望值是-0.986839150644803\n",
      "能量期望值测量函数接受到的参数是[ 0.07252052 -0.08672297  0.10141731  0.07493226 -1.56811798 -0.35140759]\n",
      "能量期望值是-0.9868391507349343\n",
      "能量期望值测量函数接受到的参数是[ 0.07252052 -0.08672297  0.10141731  0.07493225 -1.56811797 -0.35140759]\n",
      "能量期望值是-0.9868391537853569\n",
      "能量期望值测量函数接受到的参数是[ 0.07252052 -0.08672297  0.10141731  0.07493225 -1.56811798 -0.35140758]\n",
      "能量期望值是-0.9868391541146337\n",
      "回调函数收到了(array([ 0.07252052, -0.08672297,  0.10141731,  0.07493225, -1.56811798,\n",
      "       -0.35140759]),)\n",
      "能量期望值测量函数接受到的参数是[-0.00354485 -0.07961561  0.02527841  0.00713373 -1.39060978 -0.14702195]\n",
      "能量期望值是-1.0267897928041365\n",
      "能量期望值测量函数接受到的参数是[-0.00354484 -0.07961561  0.02527841  0.00713373 -1.39060978 -0.14702195]\n",
      "能量期望值是-1.026789792836074\n",
      "能量期望值测量函数接受到的参数是[-0.00354485 -0.0796156   0.02527841  0.00713373 -1.39060978 -0.14702195]\n",
      "能量期望值是-1.0267897941419508\n",
      "能量期望值测量函数接受到的参数是[-0.00354485 -0.07961561  0.02527842  0.00713373 -1.39060978 -0.14702195]\n",
      "能量期望值是-1.026789792603334\n",
      "能量期望值测量函数接受到的参数是[-0.00354485 -0.07961561  0.02527841  0.00713374 -1.39060978 -0.14702195]\n",
      "能量期望值是-1.0267897927921887\n",
      "能量期望值测量函数接受到的参数是[-0.00354485 -0.07961561  0.02527841  0.00713373 -1.39060977 -0.14702195]\n",
      "能量期望值是-1.026789790790434\n",
      "能量期望值测量函数接受到的参数是[-0.00354485 -0.07961561  0.02527841  0.00713373 -1.39060978 -0.14702194]\n",
      "能量期望值是-1.0267897927139735\n",
      "回调函数收到了(array([-0.00354485, -0.07961561,  0.02527841,  0.00713373, -1.39060978,\n",
      "       -0.14702195]),)\n",
      "能量期望值测量函数接受到的参数是[-0.0048682  -0.00782171  0.01324525  0.00273186 -1.47906135 -0.1400562 ]\n",
      "能量期望值是-1.043874245805961\n",
      "能量期望值测量函数接受到的参数是[-0.00486819 -0.00782171  0.01324525  0.00273186 -1.47906135 -0.1400562 ]\n",
      "能量期望值是-1.043874245850025\n",
      "能量期望值测量函数接受到的参数是[-0.0048682  -0.0078217   0.01324525  0.00273186 -1.47906135 -0.1400562 ]\n",
      "能量期望值是-1.0438742459384538\n",
      "能量期望值测量函数接受到的参数是[-0.0048682  -0.00782171  0.01324526  0.00273186 -1.47906135 -0.1400562 ]\n",
      "能量期望值是-1.0438742457002972\n",
      "能量期望值测量函数接受到的参数是[-0.0048682  -0.00782171  0.01324525  0.00273187 -1.47906135 -0.1400562 ]\n",
      "能量期望值是-1.0438742458068073\n",
      "能量期望值测量函数接受到的参数是[-0.0048682  -0.00782171  0.01324525  0.00273186 -1.47906134 -0.1400562 ]\n",
      "能量期望值是-1.0438742452296643\n",
      "能量期望值测量函数接受到的参数是[-0.0048682  -0.00782171  0.01324525  0.00273186 -1.47906135 -0.14005619]\n",
      "能量期望值是-1.0438742462825479\n",
      "回调函数收到了(array([-0.0048682 , -0.00782171,  0.01324525,  0.00273186, -1.47906135,\n",
      "       -0.1400562 ]),)\n",
      "能量期望值测量函数接受到的参数是[-0.01589657  0.00551995 -0.00933061 -0.01030094 -1.53383092 -0.08317102]\n",
      "能量期望值是-1.0479956218098576\n",
      "能量期望值测量函数接受到的参数是[-0.01589656  0.00551995 -0.00933061 -0.01030094 -1.53383092 -0.08317102]\n",
      "能量期望值是-1.0479956219531532\n",
      "能量期望值测量函数接受到的参数是[-0.01589657  0.00551996 -0.00933061 -0.01030094 -1.53383092 -0.08317102]\n",
      "能量期望值是-1.0479956217161277\n",
      "能量期望值测量函数接受到的参数是[-0.01589657  0.00551995 -0.0093306  -0.01030094 -1.53383092 -0.08317102]\n",
      "能量期望值是-1.0479956218843904\n",
      "能量期望值测量函数接受到的参数是[-0.01589657  0.00551995 -0.00933061 -0.01030093 -1.53383092 -0.08317102]\n",
      "能量期望值是-1.0479956219088478\n",
      "能量期望值测量函数接受到的参数是[-0.01589657  0.00551995 -0.00933061 -0.01030094 -1.53383091 -0.08317102]\n",
      "能量期望值是-1.0479956217619733\n",
      "能量期望值测量函数接受到的参数是[-0.01589657  0.00551995 -0.00933061 -0.01030094 -1.53383092 -0.08317101]\n",
      "能量期望值是-1.0479956222169813\n",
      "回调函数收到了(array([-0.01589657,  0.00551995, -0.00933061, -0.01030094, -1.53383092,\n",
      "       -0.08317102]),)\n",
      "能量期望值测量函数接受到的参数是[-0.00262612  0.00346946 -0.00736479 -0.00266129 -1.56850632 -0.01781048]\n",
      "能量期望值是-1.0498589732142873\n",
      "能量期望值测量函数接受到的参数是[-0.00262611  0.00346946 -0.00736479 -0.00266129 -1.56850632 -0.01781048]\n",
      "能量期望值是-1.0498589732379235\n",
      "能量期望值测量函数接受到的参数是[-0.00262612  0.00346947 -0.00736479 -0.00266129 -1.56850632 -0.01781048]\n",
      "能量期望值是-1.0498589731553118\n",
      "能量期望值测量函数接受到的参数是[-0.00262612  0.00346946 -0.00736478 -0.00266129 -1.56850632 -0.01781048]\n",
      "能量期望值是-1.0498589732731975\n",
      "能量期望值测量函数接受到的参数是[-0.00262612  0.00346946 -0.00736479 -0.00266128 -1.56850632 -0.01781048]\n",
      "能量期望值是-1.0498589732383214\n",
      "能量期望值测量函数接受到的参数是[-0.00262612  0.00346946 -0.00736479 -0.00266129 -1.56850631 -0.01781048]\n",
      "能量期望值是-1.0498589732999275\n",
      "能量期望值测量函数接受到的参数是[-0.00262612  0.00346946 -0.00736479 -0.00266129 -1.56850632 -0.01781047]\n",
      "能量期望值是-1.0498589733407433\n",
      "回调函数收到了(array([-0.00262612,  0.00346946, -0.00736479, -0.00266129, -1.56850632,\n",
      "       -0.01781048]),)\n",
      "能量期望值测量函数接受到的参数是[-2.01729009e-03  2.39242145e-04  2.25066027e-03 -5.11849714e-04\n",
      " -1.57125283e+00  5.97263150e-04]\n",
      "能量期望值是-1.0499958470115134\n",
      "能量期望值测量函数接受到的参数是[-2.01728009e-03  2.39242145e-04  2.25066027e-03 -5.11849714e-04\n",
      " -1.57125283e+00  5.97263150e-04]\n",
      "能量期望值是-1.049995847029669\n",
      "能量期望值测量函数接受到的参数是[-2.01729009e-03  2.39252145e-04  2.25066027e-03 -5.11849714e-04\n",
      " -1.57125283e+00  5.97263150e-04]\n",
      "能量期望值是-1.049995847007446\n",
      "能量期望值测量函数接受到的参数是[-2.01729009e-03  2.39242145e-04  2.25067027e-03 -5.11849714e-04\n",
      " -1.57125283e+00  5.97263150e-04]\n",
      "能量期望值是-1.0499958469935082\n",
      "能量期望值测量函数接受到的参数是[-2.01729009e-03  2.39242145e-04  2.25066027e-03 -5.11839714e-04\n",
      " -1.57125283e+00  5.97263150e-04]\n",
      "能量期望值是-1.0499958470161208\n",
      "能量期望值测量函数接受到的参数是[-2.01729009e-03  2.39242145e-04  2.25066027e-03 -5.11849714e-04\n",
      " -1.57125282e+00  5.97263150e-04]\n",
      "能量期望值是-1.0499958470150936\n",
      "能量期望值测量函数接受到的参数是[-2.01729009e-03  2.39242145e-04  2.25066027e-03 -5.11849714e-04\n",
      " -1.57125283e+00  5.97273150e-04]\n",
      "能量期望值是-1.0499958470099302\n",
      "回调函数收到了(array([-2.01729009e-03,  2.39242145e-04,  2.25066027e-03, -5.11849714e-04,\n",
      "       -1.57125283e+00,  5.97263150e-04]),)\n",
      "能量期望值测量函数接受到的参数是[-2.55385576e-04  5.64211752e-05  3.49139575e-04 -6.49720448e-05\n",
      " -1.57084634e+00 -1.32859185e-04]\n",
      "能量期望值是-1.0499999034469498\n",
      "能量期望值测量函数接受到的参数是[-2.55375576e-04  5.64211752e-05  3.49139575e-04 -6.49720448e-05\n",
      " -1.57084634e+00 -1.32859185e-04]\n",
      "能量期望值是-1.0499999034492484\n",
      "能量期望值测量函数接受到的参数是[-2.55385576e-04  5.64311752e-05  3.49139575e-04 -6.49720448e-05\n",
      " -1.57084634e+00 -1.32859185e-04]\n",
      "能量期望值是-1.0499999034459901\n",
      "能量期望值测量函数接受到的参数是[-2.55385576e-04  5.64211752e-05  3.49149575e-04 -6.49720448e-05\n",
      " -1.57084634e+00 -1.32859185e-04]\n",
      "能量期望值是-1.0499999034441565\n",
      "能量期望值测量函数接受到的参数是[-2.55385576e-04  5.64211752e-05  3.49139575e-04 -6.49620448e-05\n",
      " -1.57084634e+00 -1.32859185e-04]\n",
      "能量期望值是-1.0499999034475342\n",
      "能量期望值测量函数接受到的参数是[-2.55385576e-04  5.64211752e-05  3.49139575e-04 -6.49720448e-05\n",
      " -1.57084633e+00 -1.32859185e-04]\n",
      "能量期望值是-1.0499999034487302\n",
      "能量期望值测量函数接受到的参数是[-2.55385576e-04  5.64211752e-05  3.49139575e-04 -6.49720448e-05\n",
      " -1.57084634e+00 -1.32849185e-04]\n",
      "能量期望值是-1.0499999034483625\n",
      "回调函数收到了(array([-2.55385576e-04,  5.64211752e-05,  3.49139575e-04, -6.49720448e-05,\n",
      "       -1.57084634e+00, -1.32859185e-04]),)\n",
      "能量期望值测量函数接受到的参数是[-7.60525982e-06  4.31613481e-06 -1.06459085e-05 -8.23650213e-06\n",
      " -1.57078940e+00  2.10981346e-06]\n",
      "能量期望值是-1.049999999829518\n",
      "能量期望值测量函数接受到的参数是[-7.59525982e-06  4.31613481e-06 -1.06459085e-05 -8.23650213e-06\n",
      " -1.57078940e+00  2.10981346e-06]\n",
      "能量期望值是-1.0499999998295864\n",
      "能量期望值测量函数接受到的参数是[-7.60525982e-06  4.32613481e-06 -1.06459085e-05 -8.23650213e-06\n",
      " -1.57078940e+00  2.10981346e-06]\n",
      "能量期望值是-1.0499999998294445\n",
      "能量期望值测量函数接受到的参数是[-7.60525982e-06  4.31613481e-06 -1.06359085e-05 -8.23650213e-06\n",
      " -1.57078940e+00  2.10981346e-06]\n",
      "能量期望值是-1.0499999998296028\n",
      "能量期望值测量函数接受到的参数是[-7.60525982e-06  4.31613481e-06 -1.06459085e-05 -8.22650213e-06\n",
      " -1.57078940e+00  2.10981346e-06]\n",
      "能量期望值是-1.0499999998295917\n",
      "能量期望值测量函数接受到的参数是[-7.60525982e-06  4.31613481e-06 -1.06459085e-05 -8.23650213e-06\n",
      " -1.57078939e+00  2.10981346e-06]\n",
      "能量期望值是-1.0499999998293856\n",
      "能量期望值测量函数接受到的参数是[-7.60525982e-06  4.31613481e-06 -1.06459085e-05 -8.23650213e-06\n",
      " -1.57078940e+00  2.11981346e-06]\n",
      "能量期望值是-1.0499999998294527\n",
      "回调函数收到了(array([-7.60525982e-06,  4.31613481e-06, -1.06459085e-05, -8.23650213e-06,\n",
      "       -1.57078940e+00,  2.10981346e-06]),)\n",
      "能量期望值测量函数接受到的参数是[ 7.10772513e-07 -8.56616396e-07  4.40631097e-07  2.16234589e-07\n",
      " -1.57079677e+00 -1.63941972e-07]\n",
      "能量期望值是-1.0499999999988248\n",
      "能量期望值测量函数接受到的参数是[ 7.20772513e-07 -8.56616396e-07  4.40631097e-07  2.16234589e-07\n",
      " -1.57079677e+00 -1.63941972e-07]\n",
      "能量期望值是-1.0499999999988185\n",
      "能量期望值测量函数接受到的参数是[ 7.10772513e-07 -8.46616396e-07  4.40631097e-07  2.16234589e-07\n",
      " -1.57079677e+00 -1.63941972e-07]\n",
      "能量期望值是-1.0499999999988394\n",
      "能量期望值测量函数接受到的参数是[ 7.10772513e-07 -8.56616396e-07  4.50631097e-07  2.16234589e-07\n",
      " -1.57079677e+00 -1.63941972e-07]\n",
      "能量期望值是-1.0499999999988212\n",
      "能量期望值测量函数接受到的参数是[ 7.10772513e-07 -8.56616396e-07  4.40631097e-07  2.26234589e-07\n",
      " -1.57079677e+00 -1.63941972e-07]\n",
      "能量期望值是-1.049999999998823\n",
      "能量期望值测量函数接受到的参数是[ 7.10772513e-07 -8.56616396e-07  4.40631097e-07  2.16234589e-07\n",
      " -1.57079676e+00 -1.63941972e-07]\n",
      "能量期望值是-1.0499999999988332\n",
      "能量期望值测量函数接受到的参数是[ 7.10772513e-07 -8.56616396e-07  4.40631097e-07  2.16234589e-07\n",
      " -1.57079677e+00 -1.53941972e-07]\n",
      "能量期望值是-1.0499999999988288\n",
      "回调函数收到了(array([ 7.10772513e-07, -8.56616396e-07,  4.40631097e-07,  2.16234589e-07,\n",
      "       -1.57079677e+00, -1.63941972e-07]),)\n",
      "----------------------优化结果展示------------------------------\n",
      "最优参数最终是=[ 7.10772513e-07 -8.56616396e-07  4.40631097e-07  2.16234589e-07\n",
      " -1.57079677e+00 -1.63941972e-07]\n",
      "优化后的最小能量是=-1.0499999999988248\n"
     ]
    }
   ],
   "source": [
    "from scipy.optimize import minimize\n",
    "#fun 目标函数\n",
    "#x0 参数的初始值\n",
    "#method 不同method选用不同算法 默认得了\n",
    "#bound 给变分参数加个边界 不然一个参数给你定了几百万 合适吗？ \n",
    "opt_result = minimize(fun=object_value,\n",
    "                      x0=[0.2]*qc.num_parameters,\n",
    "                      bounds=[[-2*np.pi,2*np.pi]]*qc.num_parameters,\n",
    "                      callback=mycall_back)\n",
    "print(f'----------------------优化结果展示------------------------------')\n",
    "print(f'最优参数最终是={opt_result.x}\\n优化后的最小能量是={opt_result.fun}')"
   ]
  },
  {
   "attachments": {},
   "cell_type": "markdown",
   "metadata": {},
   "source": [
    "分析结果可以看到 离真正的最小值-1.4还有一定差距 这是由于ansatz过于简单导致的 此处不提  \n",
    "#### Final: 得到的变分参数如何加回线路里  \n",
    "  现在得到了最优参数 但是如何加进线路里，得到一个不带任何未知数的量子线路呢？这部分不难 纯粹教下api"
   ]
  },
  {
   "cell_type": "code",
   "execution_count": 7,
   "metadata": {},
   "outputs": [
    {
     "name": "stdout",
     "output_type": "stream",
     "text": [
      "没有绑定参数的线路是...\n"
     ]
    },
    {
     "data": {
      "image/png": "[encoded data removed]",
      "text/plain": [
       "<Figure size 287.496x284.278 with 1 Axes>"
      ]
     },
     "metadata": {},
     "output_type": "display_data"
    },
    {
     "name": "stdout",
     "output_type": "stream",
     "text": [
      "绑定参数后的线路是...\n"
     ]
    },
    {
     "data": {
      "image/png": "[encoded data removed]",
      "text/plain": [
       "<Figure size 621.941x284.278 with 1 Axes>"
      ]
     },
     "metadata": {},
     "output_type": "display_data"
    }
   ],
   "source": [
    "print(f'没有绑定参数的线路是...')\n",
    "display(qc.decompose(reps=2).draw('mpl'))\n",
    "print(f'绑定参数后的线路是...')\n",
    "qc = qc.bind_parameters(opt_result.x)\n",
    "display(qc.decompose(reps=2).draw('mpl'))"
   ]
  },
  {
   "attachments": {},
   "cell_type": "markdown",
   "metadata": {},
   "source": [
    "### 课后练习  \n",
    "背景: 注意看，看完教程的这个男人叫小帅。就在前不久，他的女友小美被大魔王抓走了，大魔王说如果找不到下面Ansatz的最优参数，就把小美杀掉。  \n",
    "此时小帅刚学完变分参数的优化 小帅立刻马不停蹄地试了起来..."
   ]
  },
  {
   "cell_type": "code",
   "execution_count": 10,
   "metadata": {},
   "outputs": [
    {
     "data": {
      "image/png": "[encoded data removed]",
      "text/plain": [
       "<Figure size 454.719x284.278 with 1 Axes>"
      ]
     },
     "metadata": {},
     "output_type": "display_data"
    }
   ],
   "source": [
    "#先构造一个我们自己编的哈密顿量\n",
    "new_hamiltonian = SparsePauliOp(data=['XZZ','ZXI','IXZ','XZX','III','ZXZ'],coeffs=[0.7,0.8,0.9,0.2,0.65,0.78])\n",
    "qc = QuantumCircuit(3)\n",
    "qc.append(TwoLocal(num_qubits=3,rotation_blocks=['rx','ry'],reps=1),range(3))\n",
    "display(qc.decompose(reps=2).draw('mpl'))"
   ]
  },
  {
   "cell_type": "code",
   "execution_count": null,
   "metadata": {},
   "outputs": [],
   "source": []
  }
 ],
 "metadata": {
  "kernelspec": {
   "display_name": "QISKIT_WSL",
   "language": "python",
   "name": "python3"
  },
  "language_info": {
   "codemirror_mode": {
    "name": "ipython",
    "version": 3
   },
   "file_extension": ".py",
   "mimetype": "text/x-python",
   "name": "python",
   "nbconvert_exporter": "python",
   "pygments_lexer": "ipython3",
   "version": "3.11.3"
  },
  "orig_nbformat": 4
 },
 "nbformat": 4,
 "nbformat_minor": 2
}
